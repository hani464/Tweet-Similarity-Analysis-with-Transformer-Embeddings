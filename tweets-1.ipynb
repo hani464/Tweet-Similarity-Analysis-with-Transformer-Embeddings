{
 "cells": [
  {
   "cell_type": "code",
   "execution_count": null,
   "metadata": {},
   "outputs": [],
   "source": [
    "import numpy as np\n",
    "import pandas as pd\n",
    "import random\n",
    "from sklearn.metrics import precision_score, recall_score, f1_score\n",
    "from transformers import BertTokenizer, BertModel\n",
    "import torch\n",
    "import torch.nn as nn\n",
    "import torch.optim as optim\n",
    "from torch.utils.data import DataLoader, TensorDataset"
   ]
  },
  {
   "cell_type": "markdown",
   "metadata": {},
   "source": [
    "***# Step 1***"
   ]
  },
  {
   "cell_type": "code",
   "execution_count": null,
   "metadata": {},
   "outputs": [],
   "source": [
    "train_data = pd.read_csv(\"C:/Users/hp/Downloads/train.xlsx\")  \n",
    "test_data = pd.read_csv(\"C:/Users/hp/Downloads/test.xlsx\") "
   ]
  },
  {
   "cell_type": "markdown",
   "metadata": {},
   "source": [
    "***# Step 2: Data Preprocessing***"
   ]
  },
  {
   "cell_type": "code",
   "execution_count": null,
   "metadata": {},
   "outputs": [],
   "source": [
    "# Tokenization using BERT tokenizer\n",
    "tokenizer = BertTokenizer.from_pretrained('bert-base-uncased')"
   ]
  },
  {
   "cell_type": "markdown",
   "metadata": {},
   "source": [
    "***# Step 3: Model Architecture***"
   ]
  },
  {
   "cell_type": "code",
   "execution_count": null,
   "metadata": {},
   "outputs": [],
   "source": [
    "class TweetSimilarityModel(nn.Module):\n",
    "    def __init__(self):\n",
    "        super(TweetSimilarityModel, self).__init__()\n",
    "        self.bert = BertModel.from_pretrained('bert-base-uncased')\n",
    "        self.fc = nn.Linear(768, 1)\n",
    "        self.sigmoid = nn.Sigmoid()\n",
    "        \n",
    "    def forward(self, input_ids, attention_mask):\n",
    "        output = self.bert(input_ids=input_ids, attention_mask=attention_mask)\n",
    "        pooled_output = output['pooler_output']\n",
    "        similarity_score = self.sigmoid(self.fc(pooled_output))\n",
    "        return similarity_score"
   ]
  },
  {
   "cell_type": "markdown",
   "metadata": {},
   "source": [
    "***# Step 4: Training and Evaluation***"
   ]
  },
  {
   "cell_type": "code",
   "execution_count": null,
   "metadata": {},
   "outputs": [],
   "source": [
    "def train_model(model, train_loader, criterion, optimizer, num_epochs=5):\n",
    "    model.train()\n",
    "    for epoch in range(num_epochs):\n",
    "        for batch in train_loader:\n",
    "            input_ids, attention_mask, labels = batch\n",
    "            optimizer.zero_grad()\n",
    "            outputs = model(input_ids, attention_mask)\n",
    "            loss = criterion(outputs.squeeze(), labels.float())\n",
    "            loss.backward()\n",
    "            optimizer.step()"
   ]
  },
  {
   "cell_type": "code",
   "execution_count": null,
   "metadata": {},
   "outputs": [],
   "source": [
    "def evaluate_model(model, test_loader):\n",
    "    model.eval()\n",
    "    predictions = []\n",
    "    true_labels = []\n",
    "    with torch.no_grad():\n",
    "        for batch in test_loader:\n",
    "            input_ids, attention_mask, labels = batch\n",
    "            outputs = model(input_ids, attention_mask)\n",
    "            predictions.extend(outputs.cpu().numpy().tolist())\n",
    "            true_labels.extend(labels.cpu().numpy().tolist())\n",
    "    predictions = np.array(predictions).flatten()\n",
    "    true_labels = np.array(true_labels)\n",
    "    precision = precision_score(true_labels, predictions.round())\n",
    "    recall = recall_score(true_labels, predictions.round())\n",
    "    f1 = f1_score(true_labels, predictions.round())\n",
    "    return precision, recall, f1"
   ]
  },
  {
   "cell_type": "code",
   "execution_count": null,
   "metadata": {},
   "outputs": [],
   "source": [
    "        # Convert tweets to BERT tokens and create DataLoader\n",
    "def tokenize_and_create_dataloader(data, tokenizer, max_length=128, batch_size=32):\n",
    "    input_ids = []\n",
    "    attention_masks = []\n",
    "    labels = data['label'].tolist()\n",
    "    for index, row in data.iterrows():\n",
    "        encoded_dict = tokenizer.encode_plus(\n",
    "                            row['text1'],\n",
    "                            row['text2'],\n",
    "                            add_special_tokens=True,\n",
    "                            max_length=max_length,\n",
    "                            padding='max_length',\n",
    "                            truncation=True,\n",
    "                            return_attention_mask=True,\n",
    "                            return_tensors='pt'\n",
    "                       )\n",
    "        input_ids.append(encoded_dict['input_ids'])\n",
    "        attention_masks.append(encoded_dict['attention_mask'])\n",
    "    input_ids = torch.cat(input_ids, dim=0)\n",
    "    attention_masks = torch.cat(attention_masks, dim=0)\n",
    "    labels = torch.tensor(labels)\n",
    "    dataset = TensorDataset(input_ids, attention_masks, labels)\n",
    "    dataloader = DataLoader(dataset, batch_size=batch_size)\n",
    "    return dataloader\n",
    "\n",
    "train_dataloader = tokenize_and_create_dataloader(train_data, tokenizer)\n",
    "test_dataloader = tokenize_and_create_dataloader(test_data, tokenizer)\n",
    "\n",
    "# Initialize model, criterion, and optimizer\n",
    "model = TweetSimilarityModel()\n",
    "criterion = nn.BCELoss()\n",
    "optimizer = optim.Adam(model.parameters(), lr=2e-5)\n",
    "\n",
    "# Train the model\n",
    "train_model(model, train_dataloader, criterion, optimizer)\n",
    "\n",
    "# Evaluate the model\n",
    "precision, recall, f1 = evaluate_model(model, test_dataloader)\n",
    "print(f\"Precision: {precision}, Recall: {recall}, F1 Score: {f1}\")"
   ]
  }
 ],
 "metadata": {
  "kernelspec": {
   "display_name": "base",
   "language": "python",
   "name": "python3"
  },
  "language_info": {
   "codemirror_mode": {
    "name": "ipython",
    "version": 3
   },
   "file_extension": ".py",
   "mimetype": "text/x-python",
   "name": "python",
   "nbconvert_exporter": "python",
   "pygments_lexer": "ipython3",
   "version": "3.8.8"
  }
 },
 "nbformat": 4,
 "nbformat_minor": 2
}
